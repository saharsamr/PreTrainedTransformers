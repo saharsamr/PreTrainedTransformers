{
  "nbformat": 4,
  "nbformat_minor": 0,
  "metadata": {
    "colab": {
      "name": "bert.ipynb",
      "provenance": [],
      "collapsed_sections": []
    },
    "kernelspec": {
      "name": "python3",
      "display_name": "Python 3"
    },
    "language_info": {
      "name": "python"
    },
    "accelerator": "GPU"
  },
  "cells": [
    {
      "cell_type": "code",
      "metadata": {
        "colab": {
          "base_uri": "https://localhost:8080/"
        },
        "id": "IpFESvU_gkVP",
        "outputId": "db8e9040-3c13-40ef-dd24-df9c2a3332c2"
      },
      "source": [
        "!pip install transformers\n",
        "!pip install tweet-preprocessor"
      ],
      "execution_count": 1,
      "outputs": [
        {
          "output_type": "stream",
          "text": [
            "Requirement already satisfied: transformers in /usr/local/lib/python3.7/dist-packages (4.6.1)\n",
            "Requirement already satisfied: regex!=2019.12.17 in /usr/local/lib/python3.7/dist-packages (from transformers) (2019.12.20)\n",
            "Requirement already satisfied: tqdm>=4.27 in /usr/local/lib/python3.7/dist-packages (from transformers) (4.41.1)\n",
            "Requirement already satisfied: importlib-metadata; python_version < \"3.8\" in /usr/local/lib/python3.7/dist-packages (from transformers) (4.0.1)\n",
            "Requirement already satisfied: numpy>=1.17 in /usr/local/lib/python3.7/dist-packages (from transformers) (1.19.5)\n",
            "Requirement already satisfied: requests in /usr/local/lib/python3.7/dist-packages (from transformers) (2.23.0)\n",
            "Requirement already satisfied: sacremoses in /usr/local/lib/python3.7/dist-packages (from transformers) (0.0.45)\n",
            "Requirement already satisfied: tokenizers<0.11,>=0.10.1 in /usr/local/lib/python3.7/dist-packages (from transformers) (0.10.2)\n",
            "Requirement already satisfied: filelock in /usr/local/lib/python3.7/dist-packages (from transformers) (3.0.12)\n",
            "Requirement already satisfied: huggingface-hub==0.0.8 in /usr/local/lib/python3.7/dist-packages (from transformers) (0.0.8)\n",
            "Requirement already satisfied: packaging in /usr/local/lib/python3.7/dist-packages (from transformers) (20.9)\n",
            "Requirement already satisfied: typing-extensions>=3.6.4; python_version < \"3.8\" in /usr/local/lib/python3.7/dist-packages (from importlib-metadata; python_version < \"3.8\"->transformers) (3.7.4.3)\n",
            "Requirement already satisfied: zipp>=0.5 in /usr/local/lib/python3.7/dist-packages (from importlib-metadata; python_version < \"3.8\"->transformers) (3.4.1)\n",
            "Requirement already satisfied: urllib3!=1.25.0,!=1.25.1,<1.26,>=1.21.1 in /usr/local/lib/python3.7/dist-packages (from requests->transformers) (1.24.3)\n",
            "Requirement already satisfied: idna<3,>=2.5 in /usr/local/lib/python3.7/dist-packages (from requests->transformers) (2.10)\n",
            "Requirement already satisfied: certifi>=2017.4.17 in /usr/local/lib/python3.7/dist-packages (from requests->transformers) (2020.12.5)\n",
            "Requirement already satisfied: chardet<4,>=3.0.2 in /usr/local/lib/python3.7/dist-packages (from requests->transformers) (3.0.4)\n",
            "Requirement already satisfied: joblib in /usr/local/lib/python3.7/dist-packages (from sacremoses->transformers) (1.0.1)\n",
            "Requirement already satisfied: click in /usr/local/lib/python3.7/dist-packages (from sacremoses->transformers) (8.0.0)\n",
            "Requirement already satisfied: six in /usr/local/lib/python3.7/dist-packages (from sacremoses->transformers) (1.15.0)\n",
            "Requirement already satisfied: pyparsing>=2.0.2 in /usr/local/lib/python3.7/dist-packages (from packaging->transformers) (2.4.7)\n",
            "Requirement already satisfied: tweet-preprocessor in /usr/local/lib/python3.7/dist-packages (0.6.0)\n"
          ],
          "name": "stdout"
        }
      ]
    },
    {
      "cell_type": "code",
      "metadata": {
        "id": "tn50sXjO_F9q"
      },
      "source": [
        "import torch\n",
        "import torch.nn as nn\n",
        "import torch.optim as optim\n",
        "\n",
        "from transformers import BertModel\n",
        "from transformers import BertTokenizer\n",
        "\n",
        "from torch.utils.data import Dataset\n",
        "from torch.utils.data import TensorDataset, DataLoader, \\\n",
        "RandomSampler, SequentialSampler\n",
        "\n",
        "\n",
        "from sklearn.metrics import accuracy_score\n",
        "from sklearn.metrics import classification_report\n",
        "\n",
        "import numpy as np\n",
        "import pandas as pd\n",
        "import matplotlib.pyplot as plt\n",
        "\n",
        "import preprocessor as p\n",
        "import string\n",
        "\n",
        "from google.colab import drive"
      ],
      "execution_count": 10,
      "outputs": []
    },
    {
      "cell_type": "code",
      "metadata": {
        "colab": {
          "base_uri": "https://localhost:8080/"
        },
        "id": "3qHDhwA-CgK2",
        "outputId": "5ef8951d-7087-462b-8984-0dbc8cd05f7c"
      },
      "source": [
        "drive.mount('/content/drive')"
      ],
      "execution_count": 3,
      "outputs": [
        {
          "output_type": "stream",
          "text": [
            "Drive already mounted at /content/drive; to attempt to forcibly remount, call drive.mount(\"/content/drive\", force_remount=True).\n"
          ],
          "name": "stdout"
        }
      ]
    },
    {
      "cell_type": "code",
      "metadata": {
        "id": "PABAKlykC5Wh"
      },
      "source": [
        "p.set_options(p.OPT.URL, p.OPT.MENTION, p.OPT.EMOJI, p.OPT.HASHTAG)\n",
        "\n",
        "\n",
        "def remove_characters(str_, chars):\n",
        "    \n",
        "    for char in chars:\n",
        "        str_ = str_.replace(char, '')\n",
        "        \n",
        "    return str_\n",
        "\n",
        "\n",
        "def preprocessing(data):\n",
        "\n",
        "    data['text'] = data['text'].apply(lambda text: text.lower())\n",
        "    data['text'] = data['text'].apply(lambda tweet: p.clean(tweet))\n",
        "    data['text'] = data['text'].apply(lambda tweet: remove_characters(tweet, string.punctuation))\n",
        "\n",
        "    return data\n",
        "\n",
        "\n",
        "def generate_x_y(data, max_len=128):\n",
        "\n",
        "    tokenizer = BertTokenizer.from_pretrained('bert-base-uncased')\n",
        "\n",
        "    x, mask, y = [], [], []\n",
        "    for i, row in data.iterrows():\n",
        "\n",
        "        sample = row['text']\n",
        "        label = row['label']\n",
        "        tokens = ['[CLS]'] + tokenizer.tokenize(sample) + ['[SEP]']\n",
        "\n",
        "        if len(tokens) < max_len:\n",
        "            tokens = tokens + ['[PAD]' for _ in range(max_len - len(tokens))]\n",
        "        else:\n",
        "            tokens = tokens[:max_len-1] + ['[SEP]']\n",
        "\n",
        "        token_ids = tokenizer.convert_tokens_to_ids(tokens)\n",
        "        sample_mask = [1 if token != '[PAD]' else 0 for token in tokens]\n",
        "\n",
        "        x.append(token_ids)\n",
        "        mask.append(sample_mask)\n",
        "        y.append(label)\n",
        "\n",
        "    return torch.tensor(x), torch.tensor(mask), torch.tensor(y)\n",
        "\n",
        "\n",
        "data = pd.read_csv('/content/drive/MyDrive/HateEval/train.csv')\n",
        "data = preprocessing(data)\n",
        "x_train, mask_train, y_train = generate_x_y(data)\n",
        "\n",
        "data = pd.read_csv('/content/drive/MyDrive/HateEval/test.csv')\n",
        "data = preprocessing(data)\n",
        "x_test, mask_test, y_test = generate_x_y(data)"
      ],
      "execution_count": 4,
      "outputs": []
    },
    {
      "cell_type": "code",
      "metadata": {
        "id": "dk7R7Gr92EVZ"
      },
      "source": [
        "class TweetClassifier(nn.Module):\n",
        "\n",
        "    def __init__(self):\n",
        "\n",
        "        super(TweetClassifier, self).__init__()\n",
        "\n",
        "        self.bert = BertModel.from_pretrained('bert-base-uncased')\n",
        "        for p in self.bert.parameters():\n",
        "            p.requires_grad = False\n",
        "\n",
        "        self.classifier = nn.Sequential(\n",
        "            nn.Linear(768, 768),\n",
        "            nn.ReLU(),\n",
        "            nn.Linear(768, 2),\n",
        "            nn.Softmax()\n",
        "        )\n",
        "\n",
        "    def forward(self, seq, mask):\n",
        "\n",
        "        outputs = self.bert(input_ids=seq, attention_mask=mask)\n",
        "        last_hidden_state_cls = outputs[0][:, 0, :]\n",
        "        out = self.classifier(last_hidden_state_cls)\n",
        "\n",
        "        return out"
      ],
      "execution_count": 5,
      "outputs": []
    },
    {
      "cell_type": "code",
      "metadata": {
        "colab": {
          "base_uri": "https://localhost:8080/"
        },
        "id": "zTrFNbqHKEbw",
        "outputId": "3700d400-0c7b-406a-c18e-5129d7bc847d"
      },
      "source": [
        "train_data = TensorDataset(x_train, mask_train, y_train)\n",
        "train_sampler = RandomSampler(train_data)\n",
        "train_dataloader = DataLoader(train_data, sampler=train_sampler, batch_size=32)\n",
        "\n",
        "test_data = TensorDataset(x_test, mask_test, y_test)\n",
        "test_sampler = RandomSampler(test_data)\n",
        "test_dataloader = DataLoader(test_data, sampler=test_sampler, batch_size=32)\n",
        "\n",
        "model = TweetClassifier().cuda()\n",
        "\n",
        "loss = nn.CrossEntropyLoss()\n",
        "opt = optim.AdamW(model.parameters(), lr=2e-4)"
      ],
      "execution_count": 6,
      "outputs": [
        {
          "output_type": "stream",
          "text": [
            "Some weights of the model checkpoint at bert-base-uncased were not used when initializing BertModel: ['cls.predictions.bias', 'cls.predictions.transform.LayerNorm.weight', 'cls.predictions.transform.dense.weight', 'cls.seq_relationship.weight', 'cls.seq_relationship.bias', 'cls.predictions.decoder.weight', 'cls.predictions.transform.dense.bias', 'cls.predictions.transform.LayerNorm.bias']\n",
            "- This IS expected if you are initializing BertModel from the checkpoint of a model trained on another task or with another architecture (e.g. initializing a BertForSequenceClassification model from a BertForPreTraining model).\n",
            "- This IS NOT expected if you are initializing BertModel from the checkpoint of a model that you expect to be exactly identical (initializing a BertForSequenceClassification model from a BertForSequenceClassification model).\n"
          ],
          "name": "stderr"
        }
      ]
    },
    {
      "cell_type": "code",
      "metadata": {
        "id": "0Zj-3wxjL-xX"
      },
      "source": [
        "def train(model, loss_func, opt, train_loader, test_loader, epochs=10):\n",
        "\n",
        "    model.train()\n",
        "    train_losses, test_losses = [], []\n",
        "    for epoch in range(epochs):\n",
        "        for i, batch in enumerate(train_loader):\n",
        "            \n",
        "            model.zero_grad()\n",
        "            seq, padd_mask, labels = tuple(d.cuda() for d in batch)\n",
        "\n",
        "            out = model(seq, padd_mask)\n",
        "            loss = loss_func(out, labels)\n",
        "            train_losses.append(loss)\n",
        "            loss.backward()\n",
        "            opt.step()\n",
        "\n",
        "            with torch.no_grad():\n",
        "                \n",
        "                if (i + 1) % 100 == 0:\n",
        "                \n",
        "                    test_loss = 0\n",
        "                    for b in test_loader:\n",
        "                        test_seq, test_mask, test_label = tuple(d.cuda() for d in b)\n",
        "                        pred = model(test_seq, test_mask)\n",
        "                        test_loss += loss_func(pred, test_label)\n",
        "                    test_losses.append(test_loss)\n",
        "                    \n",
        "                    labels, out = labels.cpu(), out.cpu()\n",
        "                    out = [np.argmax(pred) for pred in out]\n",
        "                    acc = accuracy_score(labels, out)\n",
        "                    print(\"Iteration {} of epoch {} complete. Loss: {}, Accuracy: {}\".format(i+1, epoch+1, loss.item(), acc))\n",
        "\n",
        "    return model, train_losses, test_losses"
      ],
      "execution_count": 7,
      "outputs": []
    },
    {
      "cell_type": "code",
      "metadata": {
        "colab": {
          "base_uri": "https://localhost:8080/"
        },
        "id": "3rATSFrGOqZg",
        "outputId": "8e234f02-78f2-4000-bed8-956fff5a835e"
      },
      "source": [
        "model, train_losses, test_losses = train(model, loss, opt, train_dataloader, test_dataloader)"
      ],
      "execution_count": 8,
      "outputs": [
        {
          "output_type": "stream",
          "text": [
            "/usr/local/lib/python3.7/dist-packages/torch/nn/modules/container.py:119: UserWarning: Implicit dimension choice for softmax has been deprecated. Change the call to include dim=X as an argument.\n",
            "  input = module(input)\n"
          ],
          "name": "stderr"
        },
        {
          "output_type": "stream",
          "text": [
            "Iteration 100 of epoch 1 complete. Loss: 0.6140472292900085, Accuracy: 0.71875\n",
            "Iteration 200 of epoch 1 complete. Loss: 0.6183194518089294, Accuracy: 0.6875\n",
            "Iteration 300 of epoch 1 complete. Loss: 0.6403707265853882, Accuracy: 0.6875\n",
            "Iteration 100 of epoch 2 complete. Loss: 0.5671705603599548, Accuracy: 0.6875\n",
            "Iteration 200 of epoch 2 complete. Loss: 0.6136863827705383, Accuracy: 0.65625\n",
            "Iteration 300 of epoch 2 complete. Loss: 0.6081380844116211, Accuracy: 0.6875\n",
            "Iteration 100 of epoch 3 complete. Loss: 0.5535573363304138, Accuracy: 0.78125\n",
            "Iteration 200 of epoch 3 complete. Loss: 0.6355364322662354, Accuracy: 0.65625\n",
            "Iteration 300 of epoch 3 complete. Loss: 0.6510283946990967, Accuracy: 0.6875\n",
            "Iteration 100 of epoch 4 complete. Loss: 0.6232389807701111, Accuracy: 0.59375\n",
            "Iteration 200 of epoch 4 complete. Loss: 0.5858275294303894, Accuracy: 0.75\n",
            "Iteration 300 of epoch 4 complete. Loss: 0.486839234828949, Accuracy: 0.8125\n",
            "Iteration 100 of epoch 5 complete. Loss: 0.48093920946121216, Accuracy: 0.8125\n",
            "Iteration 200 of epoch 5 complete. Loss: 0.5317373275756836, Accuracy: 0.75\n",
            "Iteration 300 of epoch 5 complete. Loss: 0.594314694404602, Accuracy: 0.6875\n",
            "Iteration 100 of epoch 6 complete. Loss: 0.5968589782714844, Accuracy: 0.71875\n",
            "Iteration 200 of epoch 6 complete. Loss: 0.515838086605072, Accuracy: 0.78125\n",
            "Iteration 300 of epoch 6 complete. Loss: 0.6061156988143921, Accuracy: 0.6875\n",
            "Iteration 100 of epoch 7 complete. Loss: 0.5707739591598511, Accuracy: 0.6875\n",
            "Iteration 200 of epoch 7 complete. Loss: 0.5461909770965576, Accuracy: 0.71875\n",
            "Iteration 300 of epoch 7 complete. Loss: 0.6354515552520752, Accuracy: 0.65625\n",
            "Iteration 100 of epoch 8 complete. Loss: 0.6328835487365723, Accuracy: 0.65625\n",
            "Iteration 200 of epoch 8 complete. Loss: 0.6329519152641296, Accuracy: 0.65625\n",
            "Iteration 300 of epoch 8 complete. Loss: 0.4892558157444, Accuracy: 0.84375\n",
            "Iteration 100 of epoch 9 complete. Loss: 0.530625581741333, Accuracy: 0.78125\n",
            "Iteration 200 of epoch 9 complete. Loss: 0.5274949669837952, Accuracy: 0.8125\n",
            "Iteration 300 of epoch 9 complete. Loss: 0.4994488060474396, Accuracy: 0.8125\n",
            "Iteration 100 of epoch 10 complete. Loss: 0.45047247409820557, Accuracy: 0.84375\n",
            "Iteration 200 of epoch 10 complete. Loss: 0.529639482498169, Accuracy: 0.78125\n",
            "Iteration 300 of epoch 10 complete. Loss: 0.5674661993980408, Accuracy: 0.71875\n"
          ],
          "name": "stdout"
        }
      ]
    },
    {
      "cell_type": "code",
      "metadata": {
        "colab": {
          "base_uri": "https://localhost:8080/",
          "height": 265
        },
        "id": "BPfmw-MMMxQM",
        "outputId": "e63e3826-d472-4bd0-e865-05fbfe9bb300"
      },
      "source": [
        "plt.plot(range(len(train_losses)), train_losses)\n",
        "plt.show()"
      ],
      "execution_count": 11,
      "outputs": [
        {
          "output_type": "display_data",
          "data": {
            "image/png": "[encoded data removed]",
            "text/plain": [
              "<Figure size 432x288 with 1 Axes>"
            ]
          },
          "metadata": {
            "tags": [],
            "needs_background": "light"
          }
        }
      ]
    },
    {
      "cell_type": "code",
      "metadata": {
        "colab": {
          "base_uri": "https://localhost:8080/"
        },
        "id": "awx3urmPNBC4",
        "outputId": "445a4be5-2103-4e54-b1d4-01907753f21d"
      },
      "source": [
        "with torch.no_grad():\n",
        "\n",
        "    y_true, y_pred = [], []\n",
        "    for batch in test_dataloader:\n",
        "        test_seq, test_mask, test_label = tuple(d.cuda() for d in batch)\n",
        "        pred = model(test_seq, test_mask)\n",
        "        test_label, pred = test_label.cpu().numpy().tolist(), pred.cpu().numpy().tolist()\n",
        "        pred = [np.argmax(p) for p in pred]\n",
        "\n",
        "        y_true = y_true + test_label\n",
        "        y_pred = y_pred + pred\n",
        "\n",
        "    print(classification_report(y_true, y_pred))"
      ],
      "execution_count": 12,
      "outputs": [
        {
          "output_type": "stream",
          "text": [
            "/usr/local/lib/python3.7/dist-packages/torch/nn/modules/container.py:119: UserWarning: Implicit dimension choice for softmax has been deprecated. Change the call to include dim=X as an argument.\n",
            "  input = module(input)\n"
          ],
          "name": "stderr"
        },
        {
          "output_type": "stream",
          "text": [
            "              precision    recall  f1-score   support\n",
            "\n",
            "           0       0.78      0.44      0.56      1740\n",
            "           1       0.52      0.83      0.64      1260\n",
            "\n",
            "    accuracy                           0.60      3000\n",
            "   macro avg       0.65      0.63      0.60      3000\n",
            "weighted avg       0.67      0.60      0.59      3000\n",
            "\n"
          ],
          "name": "stdout"
        }
      ]
    },
    {
      "cell_type": "code",
      "metadata": {
        "colab": {
          "base_uri": "https://localhost:8080/"
        },
        "id": "rQJ56XD5NL5N",
        "outputId": "3cab05af-615c-433c-9c6b-b44fbb0a7fe6"
      },
      "source": [
        "model, train_losses, test_losses = train(model, loss, opt, train_dataloader, test_dataloader, epochs=7)"
      ],
      "execution_count": 13,
      "outputs": [
        {
          "output_type": "stream",
          "text": [
            "/usr/local/lib/python3.7/dist-packages/torch/nn/modules/container.py:119: UserWarning: Implicit dimension choice for softmax has been deprecated. Change the call to include dim=X as an argument.\n",
            "  input = module(input)\n"
          ],
          "name": "stderr"
        },
        {
          "output_type": "stream",
          "text": [
            "Iteration 100 of epoch 1 complete. Loss: 0.5207683444023132, Accuracy: 0.8125\n",
            "Iteration 200 of epoch 1 complete. Loss: 0.6051594614982605, Accuracy: 0.6875\n",
            "Iteration 300 of epoch 1 complete. Loss: 0.5384622812271118, Accuracy: 0.78125\n",
            "Iteration 100 of epoch 2 complete. Loss: 0.5237911343574524, Accuracy: 0.75\n",
            "Iteration 200 of epoch 2 complete. Loss: 0.5545159578323364, Accuracy: 0.71875\n",
            "Iteration 300 of epoch 2 complete. Loss: 0.5166747570037842, Accuracy: 0.78125\n",
            "Iteration 100 of epoch 3 complete. Loss: 0.513458788394928, Accuracy: 0.71875\n",
            "Iteration 200 of epoch 3 complete. Loss: 0.5718437433242798, Accuracy: 0.75\n",
            "Iteration 300 of epoch 3 complete. Loss: 0.5453049540519714, Accuracy: 0.71875\n",
            "Iteration 100 of epoch 4 complete. Loss: 0.5912198424339294, Accuracy: 0.6875\n",
            "Iteration 200 of epoch 4 complete. Loss: 0.5674481987953186, Accuracy: 0.75\n",
            "Iteration 300 of epoch 4 complete. Loss: 0.675934374332428, Accuracy: 0.625\n",
            "Iteration 100 of epoch 5 complete. Loss: 0.5745818018913269, Accuracy: 0.75\n",
            "Iteration 200 of epoch 5 complete. Loss: 0.586401641368866, Accuracy: 0.75\n",
            "Iteration 300 of epoch 5 complete. Loss: 0.5611814856529236, Accuracy: 0.75\n",
            "Iteration 100 of epoch 6 complete. Loss: 0.5400273203849792, Accuracy: 0.75\n",
            "Iteration 200 of epoch 6 complete. Loss: 0.5971400737762451, Accuracy: 0.6875\n",
            "Iteration 300 of epoch 6 complete. Loss: 0.504339337348938, Accuracy: 0.8125\n",
            "Iteration 100 of epoch 7 complete. Loss: 0.5796620845794678, Accuracy: 0.6875\n",
            "Iteration 200 of epoch 7 complete. Loss: 0.6122061014175415, Accuracy: 0.65625\n",
            "Iteration 300 of epoch 7 complete. Loss: 0.4939977526664734, Accuracy: 0.8125\n"
          ],
          "name": "stdout"
        }
      ]
    },
    {
      "cell_type": "code",
      "metadata": {
        "colab": {
          "base_uri": "https://localhost:8080/",
          "height": 265
        },
        "id": "5LGivjOSQdD3",
        "outputId": "988e2c8c-d66f-47e3-cdd7-758163894d1c"
      },
      "source": [
        "plt.plot(range(len(train_losses)), train_losses)\n",
        "plt.show()"
      ],
      "execution_count": 14,
      "outputs": [
        {
          "output_type": "display_data",
          "data": {
            "image/png": "[encoded data removed]",
            "text/plain": [
              "<Figure size 432x288 with 1 Axes>"
            ]
          },
          "metadata": {
            "tags": [],
            "needs_background": "light"
          }
        }
      ]
    },
    {
      "cell_type": "code",
      "metadata": {
        "colab": {
          "base_uri": "https://localhost:8080/"
        },
        "id": "EPwLWmfWR-83",
        "outputId": "0b5758c5-3385-4663-9148-20e70b477339"
      },
      "source": [
        "with torch.no_grad():\n",
        "\n",
        "    y_true, y_pred = [], []\n",
        "    for batch in test_dataloader:\n",
        "        test_seq, test_mask, test_label = tuple(d.cuda() for d in batch)\n",
        "        pred = model(test_seq, test_mask)\n",
        "        test_label, pred = test_label.cpu().numpy().tolist(), pred.cpu().numpy().tolist()\n",
        "        pred = [np.argmax(p) for p in pred]\n",
        "\n",
        "        y_true = y_true + test_label\n",
        "        y_pred = y_pred + pred\n",
        "\n",
        "    print(classification_report(y_true, y_pred))"
      ],
      "execution_count": 15,
      "outputs": [
        {
          "output_type": "stream",
          "text": [
            "/usr/local/lib/python3.7/dist-packages/torch/nn/modules/container.py:119: UserWarning: Implicit dimension choice for softmax has been deprecated. Change the call to include dim=X as an argument.\n",
            "  input = module(input)\n"
          ],
          "name": "stderr"
        },
        {
          "output_type": "stream",
          "text": [
            "              precision    recall  f1-score   support\n",
            "\n",
            "           0       0.76      0.48      0.59      1740\n",
            "           1       0.52      0.79      0.63      1260\n",
            "\n",
            "    accuracy                           0.61      3000\n",
            "   macro avg       0.64      0.63      0.61      3000\n",
            "weighted avg       0.66      0.61      0.60      3000\n",
            "\n"
          ],
          "name": "stdout"
        }
      ]
    },
    {
      "cell_type": "code",
      "metadata": {
        "colab": {
          "base_uri": "https://localhost:8080/"
        },
        "id": "JXH4vJaoSCQm",
        "outputId": "3ceaad55-c54e-40b0-8dd8-a45e436dc386"
      },
      "source": [
        "model, train_losses, test_losses = train(model, loss, opt, train_dataloader, test_dataloader, epochs=4)"
      ],
      "execution_count": 16,
      "outputs": [
        {
          "output_type": "stream",
          "text": [
            "/usr/local/lib/python3.7/dist-packages/torch/nn/modules/container.py:119: UserWarning: Implicit dimension choice for softmax has been deprecated. Change the call to include dim=X as an argument.\n",
            "  input = module(input)\n"
          ],
          "name": "stderr"
        },
        {
          "output_type": "stream",
          "text": [
            "Iteration 100 of epoch 1 complete. Loss: 0.5456977486610413, Accuracy: 0.78125\n",
            "Iteration 200 of epoch 1 complete. Loss: 0.6339428424835205, Accuracy: 0.6875\n",
            "Iteration 300 of epoch 1 complete. Loss: 0.560134768486023, Accuracy: 0.71875\n",
            "Iteration 100 of epoch 2 complete. Loss: 0.6104092001914978, Accuracy: 0.625\n",
            "Iteration 200 of epoch 2 complete. Loss: 0.6039937138557434, Accuracy: 0.6875\n",
            "Iteration 300 of epoch 2 complete. Loss: 0.4750239849090576, Accuracy: 0.84375\n",
            "Iteration 100 of epoch 3 complete. Loss: 0.5723086595535278, Accuracy: 0.65625\n",
            "Iteration 200 of epoch 3 complete. Loss: 0.4608580768108368, Accuracy: 0.84375\n",
            "Iteration 300 of epoch 3 complete. Loss: 0.5506731867790222, Accuracy: 0.75\n",
            "Iteration 100 of epoch 4 complete. Loss: 0.4933106005191803, Accuracy: 0.78125\n",
            "Iteration 200 of epoch 4 complete. Loss: 0.467776358127594, Accuracy: 0.875\n",
            "Iteration 300 of epoch 4 complete. Loss: 0.48181647062301636, Accuracy: 0.84375\n"
          ],
          "name": "stdout"
        }
      ]
    },
    {
      "cell_type": "code",
      "metadata": {
        "colab": {
          "base_uri": "https://localhost:8080/",
          "height": 265
        },
        "id": "5qa7AV8tSod3",
        "outputId": "5667513c-54aa-4da4-9a8d-61f3df30e625"
      },
      "source": [
        "plt.plot(range(len(train_losses)), train_losses)\n",
        "plt.show()"
      ],
      "execution_count": 17,
      "outputs": [
        {
          "output_type": "display_data",
          "data": {
            "image/png": "[encoded data removed]",
            "text/plain": [
              "<Figure size 432x288 with 1 Axes>"
            ]
          },
          "metadata": {
            "tags": [],
            "needs_background": "light"
          }
        }
      ]
    },
    {
      "cell_type": "code",
      "metadata": {
        "colab": {
          "base_uri": "https://localhost:8080/"
        },
        "id": "I7_o0QqhSrAF",
        "outputId": "21583bf2-356f-4c87-fe0a-1f08fc4dea02"
      },
      "source": [
        "with torch.no_grad():\n",
        "\n",
        "    y_true, y_pred = [], []\n",
        "    for batch in test_dataloader:\n",
        "        test_seq, test_mask, test_label = tuple(d.cuda() for d in batch)\n",
        "        pred = model(test_seq, test_mask)\n",
        "        test_label, pred = test_label.cpu().numpy().tolist(), pred.cpu().numpy().tolist()\n",
        "        pred = [np.argmax(p) for p in pred]\n",
        "\n",
        "        y_true = y_true + test_label\n",
        "        y_pred = y_pred + pred\n",
        "\n",
        "    print(classification_report(y_true, y_pred))"
      ],
      "execution_count": 18,
      "outputs": [
        {
          "output_type": "stream",
          "text": [
            "/usr/local/lib/python3.7/dist-packages/torch/nn/modules/container.py:119: UserWarning: Implicit dimension choice for softmax has been deprecated. Change the call to include dim=X as an argument.\n",
            "  input = module(input)\n"
          ],
          "name": "stderr"
        },
        {
          "output_type": "stream",
          "text": [
            "              precision    recall  f1-score   support\n",
            "\n",
            "           0       0.77      0.44      0.56      1740\n",
            "           1       0.51      0.82      0.63      1260\n",
            "\n",
            "    accuracy                           0.60      3000\n",
            "   macro avg       0.64      0.63      0.60      3000\n",
            "weighted avg       0.66      0.60      0.59      3000\n",
            "\n"
          ],
          "name": "stdout"
        }
      ]
    }
  ]
}