{
  "nbformat": 4,
  "nbformat_minor": 0,
  "metadata": {
    "colab": {
      "name": "xlnet.ipynb",
      "provenance": []
    },
    "kernelspec": {
      "name": "python3",
      "display_name": "Python 3"
    },
    "language_info": {
      "name": "python"
    },
    "accelerator": "GPU"
  },
  "cells": [
    {
      "cell_type": "code",
      "metadata": {
        "colab": {
          "base_uri": "https://localhost:8080/"
        },
        "id": "1BMaKWdQO17X",
        "outputId": "9c8542f7-2f8c-4e3c-926c-eefeaaced849"
      },
      "source": [
        "!pip install transformers\n",
        "!pip install tweet-preprocessor\n",
        "!pip install SentencePiece"
      ],
      "execution_count": 1,
      "outputs": [
        {
          "output_type": "stream",
          "text": [
            "Requirement already satisfied: transformers in /usr/local/lib/python3.7/dist-packages (4.6.1)\n",
            "Requirement already satisfied: packaging in /usr/local/lib/python3.7/dist-packages (from transformers) (20.9)\n",
            "Requirement already satisfied: importlib-metadata; python_version < \"3.8\" in /usr/local/lib/python3.7/dist-packages (from transformers) (4.0.1)\n",
            "Requirement already satisfied: filelock in /usr/local/lib/python3.7/dist-packages (from transformers) (3.0.12)\n",
            "Requirement already satisfied: huggingface-hub==0.0.8 in /usr/local/lib/python3.7/dist-packages (from transformers) (0.0.8)\n",
            "Requirement already satisfied: sacremoses in /usr/local/lib/python3.7/dist-packages (from transformers) (0.0.45)\n",
            "Requirement already satisfied: numpy>=1.17 in /usr/local/lib/python3.7/dist-packages (from transformers) (1.19.5)\n",
            "Requirement already satisfied: tokenizers<0.11,>=0.10.1 in /usr/local/lib/python3.7/dist-packages (from transformers) (0.10.2)\n",
            "Requirement already satisfied: tqdm>=4.27 in /usr/local/lib/python3.7/dist-packages (from transformers) (4.41.1)\n",
            "Requirement already satisfied: requests in /usr/local/lib/python3.7/dist-packages (from transformers) (2.23.0)\n",
            "Requirement already satisfied: regex!=2019.12.17 in /usr/local/lib/python3.7/dist-packages (from transformers) (2019.12.20)\n",
            "Requirement already satisfied: pyparsing>=2.0.2 in /usr/local/lib/python3.7/dist-packages (from packaging->transformers) (2.4.7)\n",
            "Requirement already satisfied: zipp>=0.5 in /usr/local/lib/python3.7/dist-packages (from importlib-metadata; python_version < \"3.8\"->transformers) (3.4.1)\n",
            "Requirement already satisfied: typing-extensions>=3.6.4; python_version < \"3.8\" in /usr/local/lib/python3.7/dist-packages (from importlib-metadata; python_version < \"3.8\"->transformers) (3.7.4.3)\n",
            "Requirement already satisfied: joblib in /usr/local/lib/python3.7/dist-packages (from sacremoses->transformers) (1.0.1)\n",
            "Requirement already satisfied: click in /usr/local/lib/python3.7/dist-packages (from sacremoses->transformers) (8.0.0)\n",
            "Requirement already satisfied: six in /usr/local/lib/python3.7/dist-packages (from sacremoses->transformers) (1.15.0)\n",
            "Requirement already satisfied: idna<3,>=2.5 in /usr/local/lib/python3.7/dist-packages (from requests->transformers) (2.10)\n",
            "Requirement already satisfied: chardet<4,>=3.0.2 in /usr/local/lib/python3.7/dist-packages (from requests->transformers) (3.0.4)\n",
            "Requirement already satisfied: urllib3!=1.25.0,!=1.25.1,<1.26,>=1.21.1 in /usr/local/lib/python3.7/dist-packages (from requests->transformers) (1.24.3)\n",
            "Requirement already satisfied: certifi>=2017.4.17 in /usr/local/lib/python3.7/dist-packages (from requests->transformers) (2020.12.5)\n",
            "Requirement already satisfied: tweet-preprocessor in /usr/local/lib/python3.7/dist-packages (0.6.0)\n",
            "Requirement already satisfied: SentencePiece in /usr/local/lib/python3.7/dist-packages (0.1.95)\n"
          ],
          "name": "stdout"
        }
      ]
    },
    {
      "cell_type": "code",
      "metadata": {
        "id": "wTbxilWmO_nY"
      },
      "source": [
        "import transformers\n",
        "from transformers import XLNetTokenizer, XLNetModel, AdamW, get_linear_schedule_with_warmup\n",
        "import torch\n",
        "\n",
        "import seaborn as sns\n",
        "import matplotlib.pyplot as plt\n",
        "from matplotlib import rc\n",
        "from sklearn.model_selection import train_test_split\n",
        "from sklearn.metrics import confusion_matrix, classification_report\n",
        "from collections import defaultdict\n",
        "from textwrap import wrap\n",
        "from pylab import rcParams\n",
        "\n",
        "from torch import nn, optim\n",
        "from keras.preprocessing.sequence import pad_sequences\n",
        "from torch.utils.data import TensorDataset,RandomSampler,SequentialSampler\n",
        "from torch.utils.data import Dataset, DataLoader\n",
        "import torch.nn.functional as F\n",
        "\n",
        "from sklearn.metrics import accuracy_score\n",
        "from sklearn.metrics import classification_report\n",
        "\n",
        "import numpy as np\n",
        "import pandas as pd\n",
        "import matplotlib.pyplot as plt\n",
        "\n",
        "import preprocessor as p\n",
        "import string\n",
        "\n",
        "from google.colab import drive"
      ],
      "execution_count": 9,
      "outputs": []
    },
    {
      "cell_type": "code",
      "metadata": {
        "colab": {
          "base_uri": "https://localhost:8080/"
        },
        "id": "I_YZqXNTPFnf",
        "outputId": "ff276cf8-38e7-489a-ef1f-94b889fc544b"
      },
      "source": [
        "drive.mount('/content/drive')"
      ],
      "execution_count": 3,
      "outputs": [
        {
          "output_type": "stream",
          "text": [
            "Drive already mounted at /content/drive; to attempt to forcibly remount, call drive.mount(\"/content/drive\", force_remount=True).\n"
          ],
          "name": "stdout"
        }
      ]
    },
    {
      "cell_type": "code",
      "metadata": {
        "id": "oiDYU_sgPS7p"
      },
      "source": [
        "p.set_options(p.OPT.URL, p.OPT.MENTION, p.OPT.EMOJI, p.OPT.HASHTAG)\n",
        "\n",
        "\n",
        "def remove_characters(str_, chars):\n",
        "    \n",
        "    for char in chars:\n",
        "        str_ = str_.replace(char, '')\n",
        "        \n",
        "    return str_\n",
        "\n",
        "\n",
        "def preprocessing(data):\n",
        "\n",
        "    data['text'] = data['text'].apply(lambda text: text.lower())\n",
        "    data['text'] = data['text'].apply(lambda tweet: p.clean(tweet))\n",
        "    data['text'] = data['text'].apply(lambda tweet: remove_characters(tweet, string.punctuation))\n",
        "\n",
        "    return data\n",
        "\n",
        "\n",
        "def generate_x_y(data, max_len=128):\n",
        "\n",
        "    tokenizer = XLNetTokenizer.from_pretrained('xlnet-base-cased')\n",
        "\n",
        "    x, mask, y = [], [], []\n",
        "    for i, row in data.iterrows():\n",
        "\n",
        "        sample = row['text']\n",
        "        label = row['label']\n",
        "        tokens = ['[CLS]'] + tokenizer.tokenize(sample) + ['[SEP]']\n",
        "\n",
        "        if len(tokens) < max_len:\n",
        "            tokens = ['[PAD]' for _ in range(max_len - len(tokens))] + tokens \n",
        "        else:\n",
        "            tokens = ['[CLS]'] + tokens[-max_len+1:]\n",
        "\n",
        "        token_ids = tokenizer.convert_tokens_to_ids(tokens)\n",
        "        sample_mask = [1 if token != '[PAD]' else 0 for token in tokens]\n",
        "\n",
        "        x.append(token_ids)\n",
        "        mask.append(sample_mask)\n",
        "        y.append(label)\n",
        "\n",
        "    return torch.tensor(x), torch.tensor(mask), torch.tensor(y)\n",
        "\n",
        "\n",
        "data = pd.read_csv('/content/drive/MyDrive/HateEval/train.csv')\n",
        "data = preprocessing(data)\n",
        "x_train, mask_train, y_train = generate_x_y(data)\n",
        "\n",
        "data = pd.read_csv('/content/drive/MyDrive/HateEval/test.csv')\n",
        "data = preprocessing(data)\n",
        "x_test, mask_test, y_test = generate_x_y(data)"
      ],
      "execution_count": 4,
      "outputs": []
    },
    {
      "cell_type": "code",
      "metadata": {
        "id": "yEkxfvDSPVk_"
      },
      "source": [
        "class TweetClassifier(nn.Module):\n",
        "\n",
        "    def __init__(self):\n",
        "\n",
        "        super(TweetClassifier, self).__init__()\n",
        "\n",
        "        self.xlnet = XLNetModel.from_pretrained('xlnet-base-cased')\n",
        "        for p in self.xlnet.parameters():\n",
        "            p.requires_grad = False\n",
        "\n",
        "        self.classifier = nn.Sequential(\n",
        "            nn.Linear(768, 768),\n",
        "            nn.ReLU(),\n",
        "            nn.Linear(768, 2),\n",
        "            nn.Softmax()\n",
        "        )\n",
        "\n",
        "    def forward(self, seq, mask):\n",
        "\n",
        "        outputs = self.xlnet(input_ids=seq, attention_mask=mask)\n",
        "        last_hidden_state_cls = outputs[0][:, 0, :]\n",
        "        out = self.classifier(last_hidden_state_cls)\n",
        "\n",
        "        return out"
      ],
      "execution_count": 5,
      "outputs": []
    },
    {
      "cell_type": "code",
      "metadata": {
        "colab": {
          "base_uri": "https://localhost:8080/"
        },
        "id": "ws-MxRuVWWmD",
        "outputId": "cf72f0d3-2d86-4090-dd3b-bf6efaabfc7e"
      },
      "source": [
        "train_data = TensorDataset(x_train, mask_train, y_train)\n",
        "train_sampler = RandomSampler(train_data)\n",
        "train_dataloader = DataLoader(train_data, sampler=train_sampler, batch_size=32)\n",
        "\n",
        "test_data = TensorDataset(x_test, mask_test, y_test)\n",
        "test_sampler = RandomSampler(test_data)\n",
        "test_dataloader = DataLoader(test_data, sampler=test_sampler, batch_size=32)\n",
        "\n",
        "model = TweetClassifier().cuda()\n",
        "\n",
        "loss = nn.CrossEntropyLoss()\n",
        "opt = optim.AdamW(model.parameters(), lr=2e-4)"
      ],
      "execution_count": 6,
      "outputs": [
        {
          "output_type": "stream",
          "text": [
            "Some weights of the model checkpoint at xlnet-base-cased were not used when initializing XLNetModel: ['lm_loss.weight', 'lm_loss.bias']\n",
            "- This IS expected if you are initializing XLNetModel from the checkpoint of a model trained on another task or with another architecture (e.g. initializing a BertForSequenceClassification model from a BertForPreTraining model).\n",
            "- This IS NOT expected if you are initializing XLNetModel from the checkpoint of a model that you expect to be exactly identical (initializing a BertForSequenceClassification model from a BertForSequenceClassification model).\n"
          ],
          "name": "stderr"
        }
      ]
    },
    {
      "cell_type": "code",
      "metadata": {
        "id": "UgH6fjLjWbZx"
      },
      "source": [
        "def train(model, loss_func, opt, train_loader, test_loader, epochs=10):\n",
        "\n",
        "    model.train()\n",
        "    train_losses, test_losses = [], []\n",
        "    for epoch in range(epochs):\n",
        "        for i, batch in enumerate(train_loader):\n",
        "            \n",
        "            model.zero_grad()\n",
        "            seq, padd_mask, labels = tuple(d.cuda() for d in batch)\n",
        "\n",
        "            out = model(seq, padd_mask)\n",
        "            loss = loss_func(out, labels)\n",
        "            train_losses.append(loss)\n",
        "            loss.backward()\n",
        "            opt.step()\n",
        "\n",
        "            with torch.no_grad():\n",
        "\n",
        "                if (i + 1) % 100 == 0:\n",
        "                \n",
        "                    test_loss = 0\n",
        "                    for b in test_loader:\n",
        "                        test_seq, test_mask, test_label = tuple(d.cuda() for d in b)\n",
        "                        pred = model(test_seq, test_mask)\n",
        "                        test_loss += loss_func(pred, test_label)\n",
        "                    test_losses.append(test_loss)\n",
        "                    \n",
        "                    labels, out = labels.cpu(), out.cpu()\n",
        "                    out = [np.argmax(pred) for pred in out]\n",
        "                    acc = accuracy_score(labels, out)\n",
        "                    print(\"Iteration {} of epoch {} complete. Loss: {}, Accuracy: {}\".format(i+1, epoch+1, loss.item(), acc))\n",
        "\n",
        "    return model, train_losses, test_losses"
      ],
      "execution_count": 7,
      "outputs": []
    },
    {
      "cell_type": "code",
      "metadata": {
        "colab": {
          "base_uri": "https://localhost:8080/"
        },
        "id": "Uk-wtQZrWdy7",
        "outputId": "ba56142c-6e72-4fa9-c8a1-33d0702399b4"
      },
      "source": [
        "model, train_losses, test_losses = train(model, loss, opt, train_dataloader, test_dataloader)"
      ],
      "execution_count": 8,
      "outputs": [
        {
          "output_type": "stream",
          "text": [
            "/usr/local/lib/python3.7/dist-packages/torch/nn/modules/container.py:119: UserWarning: Implicit dimension choice for softmax has been deprecated. Change the call to include dim=X as an argument.\n",
            "  input = module(input)\n"
          ],
          "name": "stderr"
        },
        {
          "output_type": "stream",
          "text": [
            "Iteration 100 of epoch 1 complete. Loss: 0.6103927493095398, Accuracy: 0.6875\n",
            "Iteration 200 of epoch 1 complete. Loss: 0.6222758889198303, Accuracy: 0.65625\n",
            "Iteration 300 of epoch 1 complete. Loss: 0.5700212121009827, Accuracy: 0.71875\n",
            "Iteration 100 of epoch 2 complete. Loss: 0.5974933505058289, Accuracy: 0.625\n",
            "Iteration 200 of epoch 2 complete. Loss: 0.6043529510498047, Accuracy: 0.6875\n",
            "Iteration 300 of epoch 2 complete. Loss: 0.6889690160751343, Accuracy: 0.625\n",
            "Iteration 100 of epoch 3 complete. Loss: 0.6885930299758911, Accuracy: 0.5625\n",
            "Iteration 200 of epoch 3 complete. Loss: 0.5863471627235413, Accuracy: 0.6875\n",
            "Iteration 300 of epoch 3 complete. Loss: 0.7218068242073059, Accuracy: 0.5\n",
            "Iteration 100 of epoch 4 complete. Loss: 0.6005690693855286, Accuracy: 0.71875\n",
            "Iteration 200 of epoch 4 complete. Loss: 0.6915431022644043, Accuracy: 0.59375\n",
            "Iteration 300 of epoch 4 complete. Loss: 0.5906431078910828, Accuracy: 0.71875\n",
            "Iteration 100 of epoch 5 complete. Loss: 0.5273256301879883, Accuracy: 0.8125\n",
            "Iteration 200 of epoch 5 complete. Loss: 0.6232964992523193, Accuracy: 0.65625\n",
            "Iteration 300 of epoch 5 complete. Loss: 0.6189092397689819, Accuracy: 0.71875\n",
            "Iteration 100 of epoch 6 complete. Loss: 0.6536840200424194, Accuracy: 0.625\n",
            "Iteration 200 of epoch 6 complete. Loss: 0.678220272064209, Accuracy: 0.625\n",
            "Iteration 300 of epoch 6 complete. Loss: 0.7180184125900269, Accuracy: 0.53125\n",
            "Iteration 100 of epoch 7 complete. Loss: 0.5824059844017029, Accuracy: 0.75\n",
            "Iteration 200 of epoch 7 complete. Loss: 0.708305299282074, Accuracy: 0.59375\n",
            "Iteration 300 of epoch 7 complete. Loss: 0.6582760214805603, Accuracy: 0.625\n",
            "Iteration 100 of epoch 8 complete. Loss: 0.5517798662185669, Accuracy: 0.78125\n",
            "Iteration 200 of epoch 8 complete. Loss: 0.6534874439239502, Accuracy: 0.5625\n",
            "Iteration 300 of epoch 8 complete. Loss: 0.7456806302070618, Accuracy: 0.53125\n",
            "Iteration 100 of epoch 9 complete. Loss: 0.5824913382530212, Accuracy: 0.6875\n",
            "Iteration 200 of epoch 9 complete. Loss: 0.6886988878250122, Accuracy: 0.5625\n",
            "Iteration 300 of epoch 9 complete. Loss: 0.646856427192688, Accuracy: 0.59375\n",
            "Iteration 100 of epoch 10 complete. Loss: 0.5530726313591003, Accuracy: 0.75\n",
            "Iteration 200 of epoch 10 complete. Loss: 0.6790193915367126, Accuracy: 0.59375\n",
            "Iteration 300 of epoch 10 complete. Loss: 0.5713735222816467, Accuracy: 0.75\n"
          ],
          "name": "stdout"
        }
      ]
    },
    {
      "cell_type": "code",
      "metadata": {
        "colab": {
          "base_uri": "https://localhost:8080/",
          "height": 265
        },
        "id": "jmEWkOyG9SZq",
        "outputId": "8472d250-95ea-47ed-e171-aff3a0aba895"
      },
      "source": [
        "plt.plot(range(len(train_losses)), train_losses)\n",
        "plt.show()"
      ],
      "execution_count": 15,
      "outputs": [
        {
          "output_type": "display_data",
          "data": {
            "image/png": "[encoded data removed]",
            "text/plain": [
              "<Figure size 432x288 with 1 Axes>"
            ]
          },
          "metadata": {
            "tags": [],
            "needs_background": "light"
          }
        }
      ]
    },
    {
      "cell_type": "code",
      "metadata": {
        "colab": {
          "base_uri": "https://localhost:8080/"
        },
        "id": "pZWT5ds396Q4",
        "outputId": "0dde9b2f-1870-48d1-d426-ef2247682d43"
      },
      "source": [
        "with torch.no_grad():\n",
        "\n",
        "    y_true, y_pred = [], []\n",
        "    for batch in test_dataloader:\n",
        "        test_seq, test_mask, test_label = tuple(d.cuda() for d in batch)\n",
        "        pred = model(test_seq, test_mask)\n",
        "        test_label, pred = test_label.cpu().numpy().tolist(), pred.cpu().numpy().tolist()\n",
        "        pred = [np.argmax(p) for p in pred]\n",
        "\n",
        "        y_true = y_true + test_label\n",
        "        y_pred = y_pred + pred\n",
        "\n",
        "    print(classification_report(y_true, y_pred))\n"
      ],
      "execution_count": 14,
      "outputs": [
        {
          "output_type": "stream",
          "text": [
            "/usr/local/lib/python3.7/dist-packages/torch/nn/modules/container.py:119: UserWarning: Implicit dimension choice for softmax has been deprecated. Change the call to include dim=X as an argument.\n",
            "  input = module(input)\n"
          ],
          "name": "stderr"
        },
        {
          "output_type": "stream",
          "text": [
            "              precision    recall  f1-score   support\n",
            "\n",
            "           0       0.66      0.55      0.60      1740\n",
            "           1       0.50      0.61      0.55      1260\n",
            "\n",
            "    accuracy                           0.58      3000\n",
            "   macro avg       0.58      0.58      0.58      3000\n",
            "weighted avg       0.59      0.58      0.58      3000\n",
            "\n"
          ],
          "name": "stdout"
        }
      ]
    },
    {
      "cell_type": "code",
      "metadata": {
        "colab": {
          "base_uri": "https://localhost:8080/"
        },
        "id": "cp9maGqx_cyK",
        "outputId": "02604a4f-3f5c-4729-9884-30275ec0fc1e"
      },
      "source": [
        "model, train_losses, test_losses = train(model, loss, opt, train_dataloader, test_dataloader, epochs=7)"
      ],
      "execution_count": 16,
      "outputs": [
        {
          "output_type": "stream",
          "text": [
            "/usr/local/lib/python3.7/dist-packages/torch/nn/modules/container.py:119: UserWarning: Implicit dimension choice for softmax has been deprecated. Change the call to include dim=X as an argument.\n",
            "  input = module(input)\n"
          ],
          "name": "stderr"
        },
        {
          "output_type": "stream",
          "text": [
            "Iteration 100 of epoch 1 complete. Loss: 0.6522521376609802, Accuracy: 0.625\n",
            "Iteration 200 of epoch 1 complete. Loss: 0.6784695386886597, Accuracy: 0.59375\n",
            "Iteration 300 of epoch 1 complete. Loss: 0.5497523546218872, Accuracy: 0.75\n",
            "Iteration 100 of epoch 2 complete. Loss: 0.5923814177513123, Accuracy: 0.75\n",
            "Iteration 200 of epoch 2 complete. Loss: 0.6749507188796997, Accuracy: 0.59375\n",
            "Iteration 300 of epoch 2 complete. Loss: 0.5447482466697693, Accuracy: 0.8125\n",
            "Iteration 100 of epoch 3 complete. Loss: 0.6506744623184204, Accuracy: 0.625\n",
            "Iteration 200 of epoch 3 complete. Loss: 0.6888316869735718, Accuracy: 0.625\n",
            "Iteration 300 of epoch 3 complete. Loss: 0.6200543642044067, Accuracy: 0.59375\n",
            "Iteration 100 of epoch 4 complete. Loss: 0.620608925819397, Accuracy: 0.6875\n",
            "Iteration 200 of epoch 4 complete. Loss: 0.5694777369499207, Accuracy: 0.75\n",
            "Iteration 300 of epoch 4 complete. Loss: 0.6637851595878601, Accuracy: 0.5625\n",
            "Iteration 100 of epoch 5 complete. Loss: 0.7173181176185608, Accuracy: 0.5\n",
            "Iteration 200 of epoch 5 complete. Loss: 0.6147355437278748, Accuracy: 0.59375\n",
            "Iteration 300 of epoch 5 complete. Loss: 0.62989741563797, Accuracy: 0.6875\n",
            "Iteration 100 of epoch 6 complete. Loss: 0.5718831419944763, Accuracy: 0.75\n",
            "Iteration 200 of epoch 6 complete. Loss: 0.6943424940109253, Accuracy: 0.5625\n",
            "Iteration 300 of epoch 6 complete. Loss: 0.6479717493057251, Accuracy: 0.5625\n",
            "Iteration 100 of epoch 7 complete. Loss: 0.5772009491920471, Accuracy: 0.78125\n",
            "Iteration 200 of epoch 7 complete. Loss: 0.6603012084960938, Accuracy: 0.53125\n",
            "Iteration 300 of epoch 7 complete. Loss: 0.7221730351448059, Accuracy: 0.53125\n"
          ],
          "name": "stdout"
        }
      ]
    },
    {
      "cell_type": "code",
      "metadata": {
        "colab": {
          "base_uri": "https://localhost:8080/",
          "height": 265
        },
        "id": "lMtLdp4DC2CU",
        "outputId": "4e88a36b-96e4-4d2c-f62b-f642b441dd6d"
      },
      "source": [
        "plt.plot(range(len(train_losses)), train_losses)\n",
        "plt.show()"
      ],
      "execution_count": 17,
      "outputs": [
        {
          "output_type": "display_data",
          "data": {
            "image/png": "[encoded data removed]",
            "text/plain": [
              "<Figure size 432x288 with 1 Axes>"
            ]
          },
          "metadata": {
            "tags": [],
            "needs_background": "light"
          }
        }
      ]
    },
    {
      "cell_type": "code",
      "metadata": {
        "colab": {
          "base_uri": "https://localhost:8080/"
        },
        "id": "MmVaRLW9C5MB",
        "outputId": "ac0ad997-f99d-45fb-b53e-041ac20fbf00"
      },
      "source": [
        "with torch.no_grad():\n",
        "\n",
        "    y_true, y_pred = [], []\n",
        "    for batch in test_dataloader:\n",
        "        test_seq, test_mask, test_label = tuple(d.cuda() for d in batch)\n",
        "        pred = model(test_seq, test_mask)\n",
        "        test_label, pred = test_label.cpu().numpy().tolist(), pred.cpu().numpy().tolist()\n",
        "        pred = [np.argmax(p) for p in pred]\n",
        "\n",
        "        y_true = y_true + test_label\n",
        "        y_pred = y_pred + pred\n",
        "\n",
        "    print(classification_report(y_true, y_pred))\n"
      ],
      "execution_count": 18,
      "outputs": [
        {
          "output_type": "stream",
          "text": [
            "/usr/local/lib/python3.7/dist-packages/torch/nn/modules/container.py:119: UserWarning: Implicit dimension choice for softmax has been deprecated. Change the call to include dim=X as an argument.\n",
            "  input = module(input)\n"
          ],
          "name": "stderr"
        },
        {
          "output_type": "stream",
          "text": [
            "              precision    recall  f1-score   support\n",
            "\n",
            "           0       0.67      0.59      0.63      1740\n",
            "           1       0.51      0.59      0.55      1260\n",
            "\n",
            "    accuracy                           0.59      3000\n",
            "   macro avg       0.59      0.59      0.59      3000\n",
            "weighted avg       0.60      0.59      0.60      3000\n",
            "\n"
          ],
          "name": "stdout"
        }
      ]
    },
    {
      "cell_type": "code",
      "metadata": {
        "colab": {
          "base_uri": "https://localhost:8080/"
        },
        "id": "7TBGRmFKC7Pc",
        "outputId": "c529beaa-771c-4dbe-eebb-5f6e0d93c2af"
      },
      "source": [
        "model, train_losses, test_losses = train(model, loss, opt, train_dataloader, test_dataloader, epochs=4)"
      ],
      "execution_count": 19,
      "outputs": [
        {
          "output_type": "stream",
          "text": [
            "/usr/local/lib/python3.7/dist-packages/torch/nn/modules/container.py:119: UserWarning: Implicit dimension choice for softmax has been deprecated. Change the call to include dim=X as an argument.\n",
            "  input = module(input)\n"
          ],
          "name": "stderr"
        },
        {
          "output_type": "stream",
          "text": [
            "Iteration 100 of epoch 1 complete. Loss: 0.6534723043441772, Accuracy: 0.625\n",
            "Iteration 200 of epoch 1 complete. Loss: 0.6346195936203003, Accuracy: 0.6875\n",
            "Iteration 300 of epoch 1 complete. Loss: 0.6017452478408813, Accuracy: 0.75\n",
            "Iteration 100 of epoch 2 complete. Loss: 0.5424251556396484, Accuracy: 0.78125\n",
            "Iteration 200 of epoch 2 complete. Loss: 0.6619033217430115, Accuracy: 0.65625\n",
            "Iteration 300 of epoch 2 complete. Loss: 0.6719434261322021, Accuracy: 0.625\n",
            "Iteration 100 of epoch 3 complete. Loss: 0.6457557082176208, Accuracy: 0.6875\n",
            "Iteration 200 of epoch 3 complete. Loss: 0.6489772796630859, Accuracy: 0.625\n",
            "Iteration 300 of epoch 3 complete. Loss: 0.6733413934707642, Accuracy: 0.53125\n",
            "Iteration 100 of epoch 4 complete. Loss: 0.677311360836029, Accuracy: 0.625\n",
            "Iteration 200 of epoch 4 complete. Loss: 0.6764035224914551, Accuracy: 0.65625\n",
            "Iteration 300 of epoch 4 complete. Loss: 0.5216038823127747, Accuracy: 0.84375\n"
          ],
          "name": "stdout"
        }
      ]
    },
    {
      "cell_type": "code",
      "metadata": {
        "colab": {
          "base_uri": "https://localhost:8080/",
          "height": 265
        },
        "id": "NYV4JefnEz1s",
        "outputId": "e9b700a5-a1c0-4e23-8c5f-73cd512f1fc2"
      },
      "source": [
        "plt.plot(range(len(train_losses)), train_losses)\n",
        "plt.show()"
      ],
      "execution_count": 20,
      "outputs": [
        {
          "output_type": "display_data",
          "data": {
            "image/png": "[encoded data removed]",
            "text/plain": [
              "<Figure size 432x288 with 1 Axes>"
            ]
          },
          "metadata": {
            "tags": [],
            "needs_background": "light"
          }
        }
      ]
    },
    {
      "cell_type": "code",
      "metadata": {
        "colab": {
          "base_uri": "https://localhost:8080/"
        },
        "id": "xLreLZKtE18p",
        "outputId": "aa063be4-1e54-42ce-c62f-da005dc99a3d"
      },
      "source": [
        "with torch.no_grad():\n",
        "\n",
        "    y_true, y_pred = [], []\n",
        "    for batch in test_dataloader:\n",
        "        test_seq, test_mask, test_label = tuple(d.cuda() for d in batch)\n",
        "        pred = model(test_seq, test_mask)\n",
        "        test_label, pred = test_label.cpu().numpy().tolist(), pred.cpu().numpy().tolist()\n",
        "        pred = [np.argmax(p) for p in pred]\n",
        "\n",
        "        y_true = y_true + test_label\n",
        "        y_pred = y_pred + pred\n",
        "\n",
        "    print(classification_report(y_true, y_pred))\n"
      ],
      "execution_count": 21,
      "outputs": [
        {
          "output_type": "stream",
          "text": [
            "/usr/local/lib/python3.7/dist-packages/torch/nn/modules/container.py:119: UserWarning: Implicit dimension choice for softmax has been deprecated. Change the call to include dim=X as an argument.\n",
            "  input = module(input)\n"
          ],
          "name": "stderr"
        },
        {
          "output_type": "stream",
          "text": [
            "              precision    recall  f1-score   support\n",
            "\n",
            "           0       0.67      0.54      0.59      1740\n",
            "           1       0.50      0.63      0.56      1260\n",
            "\n",
            "    accuracy                           0.58      3000\n",
            "   macro avg       0.58      0.58      0.58      3000\n",
            "weighted avg       0.60      0.58      0.58      3000\n",
            "\n"
          ],
          "name": "stdout"
        }
      ]
    }
  ]
}